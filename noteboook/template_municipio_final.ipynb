{
 "cells": [
  {
   "cell_type": "markdown",
   "id": "e96fbf48",
   "metadata": {},
   "source": [
    "# <font color='darkblue'>Análise dos Indicadores - Nível Municipal (Versão Final)</font>"
   ]
  },
  {
   "cell_type": "markdown",
   "id": "762c8799",
   "metadata": {},
   "source": [
    "# <font color='darkblue'>Análise dos Indicadores a Nível Municipal    </font>"
   ]
  },
  {
   "cell_type": "markdown",
   "id": "eb2be155",
   "metadata": {},
   "source": [
    "### Carregando os pacotes"
   ]
  },
  {
   "cell_type": "code",
   "execution_count": null,
   "id": "d5fd40b7",
   "metadata": {},
   "outputs": [],
   "source": [
    "if('pacman'%in%rownames(installed.packages())){\n",
    "  library(pacman)\n",
    "}else{\n",
    "  install.packages('pacman')\n",
    "  library(pacman)\n",
    "}\n",
    "\n"
   ]
  },
  {
   "cell_type": "code",
   "execution_count": null,
   "id": "3ef75393",
   "metadata": {},
   "outputs": [],
   "source": [
    "p_load(\n",
    "readxl,\n",
    "dplyr,\n",
    "ggplot2,\n",
    "stringr,\n",
    "curl,\n",
    "sf,\n",
    "cowplot,\n",
    "DT,\n",
    "RCurl,\n",
    "repmis,\n",
    "rgdal,\n",
    "utils)\n"
   ]
  },
  {
   "cell_type": "markdown",
   "id": "a438c647",
   "metadata": {},
   "source": [
    "### Carregamento dos dados e malha territorial"
   ]
  },
  {
   "cell_type": "code",
   "execution_count": null,
   "id": "e429917b",
   "metadata": {},
   "outputs": [],
   "source": [
    "## Estamos carregando os dado direto de uma página do github \n",
    "source_data('https://github.com/giapsunb/semana_extensao_est/blob/main/dados%20muncipio/Dados_Mun.rdata?raw=true')"
   ]
  },
  {
   "cell_type": "code",
   "execution_count": null,
   "id": "566344ec",
   "metadata": {},
   "outputs": [],
   "source": [
    "url2 <- 'https://github.com/giapsunb/semana_extensao_est/blob/main/malha/Malha_territorial/Malha_territorial.zip?raw=true'\n",
    "\n",
    "download.file(url = url2, mode='wb',destfile = \"malha.zip\")\n",
    "\n",
    "unzip('malha.zip')\n",
    "\n",
    "states_completo <- st_read('malha_municipio.shp')\n",
    "\n",
    "file.remove('malha.zip')\n",
    "file.remove('malha_municipio.shp')\n",
    "file.remove('malha_municipio.prj')\n",
    "file.remove('malha_municipio.dbf')\n",
    "file.remove('malha_municipio.shx')"
   ]
  },
  {
   "cell_type": "markdown",
   "id": "7cb3d84a",
   "metadata": {},
   "source": [
    "### Definições importantes"
   ]
  },
  {
   "cell_type": "code",
   "execution_count": null,
   "id": "f6b35149",
   "metadata": {},
   "outputs": [],
   "source": [
    "INDICADORES <- c(\"1:GEPRE\",\"2:GEDST\",\"3:GEODO\",\"4:CITO\",\"5:POLI\",\"6:HIPER\", \"7:DIA\")\n",
    "Anos  <- c('2018','2019','2020')\n",
    "Quadrimestres <- c(\"Q1\",\"Q2\",\"Q3\")\n",
    "Regioes <- c('Norte','Nordeste','Sudeste','Sul','Centro-Oeste')"
   ]
  },
  {
   "cell_type": "code",
   "execution_count": null,
   "id": "5d640d8d",
   "metadata": {},
   "outputs": [],
   "source": [
    "fig <- function(width, heigth){\n",
    "     options(repr.plot.width = width, repr.plot.height = heigth)\n",
    "}"
   ]
  },
  {
   "cell_type": "code",
   "execution_count": null,
   "id": "6c6552b2",
   "metadata": {},
   "outputs": [],
   "source": [
    "levels(Dados_Mun$indicador)  <- c(\"1:GEPRE\",\"2:GEDST\",\"3:GEODO\",\"4:CITO\",\"5:POLI\",\"6:HIPER\", \"7:DIA\")"
   ]
  },
  {
   "cell_type": "code",
   "execution_count": null,
   "id": "43d50dec",
   "metadata": {},
   "outputs": [],
   "source": [
    "theme_set(theme_light() +\n",
    "            theme(axis.title = element_text(size = 12),\n",
    "                  axis.text = element_text(size = 10),\n",
    "                  plot.title = element_text(hjust = .5),\n",
    "                  axis.line = element_line(colour = \"black\"),\n",
    "                  legend.position = \"bottom\",\n",
    "                  panel.border = element_blank(),\n",
    "                  legend.key.width = unit(1, \"cm\")))"
   ]
  },
  {
   "cell_type": "markdown",
   "id": "c491ab3b",
   "metadata": {},
   "source": [
    "### Funções necessárias para interação com usuário"
   ]
  },
  {
   "cell_type": "code",
   "execution_count": null,
   "id": "d4e53d49",
   "metadata": {},
   "outputs": [],
   "source": [
    "pedir_unico_indicador <- function(){\n",
    "  num2 <- readline(paste0(\"Digite em valor númerico de acordo com a lista acima o indicador de interesse: \"))\n",
    "  num2 <- str_remove_all(num2, pattern = ' ')\n",
    "  num2 <- as.numeric(num2)\n",
    "  while(T){\n",
    "    if(between(num2,1,7)==F){\n",
    "      print(\"Por favor digite número apenas com valores de 1 a 7, rode novamente a célula\")\n",
    "      break\n",
    "    }\n",
    "    if (!is.na(num2)) {\n",
    "      indicador <- num2\n",
    "      return(indicador)\n",
    "      break\n",
    "    }\n",
    "  }  \n",
    " \n",
    "}\n",
    "\n",
    "pedir_ano <- function(){\n",
    "  num <- readline(paste0(\"Digite em valor númerico de acordo com a lista acima para o ano inicial de interesse: \"))\n",
    "  num2 <- readline(paste0(\"Digite em valor númerico de acordo com a lista acima para o ano final de interesse: \"))\n",
    "  \n",
    "  num <- str_remove_all(num, pattern = ' ')\n",
    "  num <- as.numeric(num)\n",
    "  \n",
    "  num2 <- str_remove_all(num2, pattern = ' ')\n",
    "  num2 <- as.numeric(num2)\n",
    "  \n",
    "  while(T){\n",
    "    if(between(num2,2018,2020)==F | between(num,2018,2020)==F){\n",
    "      print(\"Por favor digite número apenas com valores de 2018 a 2020, rode novamente a célula\")\n",
    "      break\n",
    "    }\n",
    "    if (!is.na(num2) & !is.na(num) ) {\n",
    "      anos <- list()\n",
    "      anos[[1]] <- num\n",
    "      anos[[2]] <- num2\n",
    "      return(anos)\n",
    "      break\n",
    "    }\n",
    "  }  \n",
    "\n",
    "}\n",
    "\n",
    "pedir_quadrimestre <- function(){\n",
    "  num <- readline(paste0(\"Digite em valor númerico de acordo com a lista acima para o quadrimestre inicial de interesse: \"))\n",
    "  num2 <- readline(paste0(\"Digite em valor númerico de acordo com a lista acima para o quadrimestre final de interesse: \"))\n",
    "  \n",
    "  num <- str_remove_all(num, pattern = ' ')\n",
    "  num <- as.numeric(num)\n",
    "  \n",
    "  num2 <- str_remove_all(num2, pattern = ' ')\n",
    "  num2 <- as.numeric(num2)\n",
    "  \n",
    "  while(T){\n",
    "    if(between(num,1,3)==F | between(num2,1,3)==F){\n",
    "      print(\"Por favor digite número apenas com valores de 1 a 3, rode novamente a célula\")\n",
    "      break\n",
    "    }\n",
    "    if (!is.na(num2) & !is.na(num) ) {\n",
    "      anos <- list()\n",
    "      anos[[1]] <- num\n",
    "      anos[[2]] <- num2\n",
    "      return(anos)\n",
    "      break\n",
    "    }\n",
    "  }  \n",
    "  \n",
    "}\n",
    "\n",
    "\n",
    "\n",
    "pedir_indicadores <- function(){\n",
    "  while(T) {\n",
    "    num <- readline(\"Indique numericamente quantos indicadores deseja selecionar: \")\n",
    "    num <- str_remove_all(num, pattern =' ')\n",
    "    num <- as.numeric(num)\n",
    "    \n",
    "    if(between(num,1,3)==F){\n",
    "      print(\"Por favor digite número apenas com valores de 1 a 3, rode novamente a célula\")\n",
    "        break\n",
    "    }\n",
    "    if (!is.na(num)) {\n",
    "      num2 <- readline(paste0(\"Digite \",num, \" em valores númericos de acordo com a lista acima os indicadores de interesse e separado por vígula: \"))\n",
    "      indicadores <- as.numeric(unlist(str_split(num2, pattern=\",\")))\n",
    "      break\n",
    "    }\n",
    "  }\n",
    "\n",
    "  return(indicadores)\n",
    "}\n",
    "\n",
    "\n",
    "\n",
    "pedir_cod_mun <- function(){\n",
    "  num2 <- readline(paste0(\"Digite em valor númerico o código do IBGE do munícipio de interesse: \"))\n",
    "  num2 <- str_remove_all(num2, pattern = ' ')\n",
    "  num <- as.numeric(num2)\n",
    "  \n",
    "  while(T){\n",
    "    if(str_length(num2)!=6){\n",
    "      print(\"Por favor digite um código de município válido.O código é de 6 digitos.Rode a célula novamente.\")\n",
    "      break\n",
    "    }\n",
    "     \n",
    "      if(num %in% unique(Dados_Mun$ibge)){\n",
    "        indicador <- num\n",
    "        return(indicador)\n",
    "        break\n",
    "      }else{\n",
    "        print(\"Por favor digite um código de município válido.O código é de 6 digitos.Rode a célula novamente.\")\n",
    "        break\n",
    "      }\n",
    "    \n",
    "      \n",
    "    }\n",
    "\n",
    "}"
   ]
  },
  {
   "cell_type": "markdown",
   "id": "bdce6b6d",
   "metadata": {},
   "source": [
    "## SELEÇÃO DE INFORMAÇÕES PARA AS ANÁLISES"
   ]
  },
  {
   "cell_type": "markdown",
   "id": "26aaa64e",
   "metadata": {},
   "source": [
    "### Procure na caixa de pesquisa o código IBGE do município de interesse utilizando o nome"
   ]
  },
  {
   "cell_type": "code",
   "execution_count": null,
   "id": "1871d686",
   "metadata": {},
   "outputs": [],
   "source": [
    "datatable(unique(Dados_Mun[,c('ibge','uf' ,'nome_mun')]),colnames=c('Código IBGE','UF','Município'), options = list(lengthMenu = c(5, 10,15), pageLength = 10, names))"
   ]
  },
  {
   "cell_type": "markdown",
   "id": "da824f0c",
   "metadata": {},
   "source": [
    "### Digite o código IBGE do município de interesse"
   ]
  },
  {
   "cell_type": "code",
   "execution_count": null,
   "id": "71d92d25",
   "metadata": {},
   "outputs": [],
   "source": [
    "municipio_selecionado = pedir_cod_mun()"
   ]
  },
  {
   "cell_type": "markdown",
   "id": "53685929",
   "metadata": {},
   "source": [
    "### Selecione o número relacionado ao Indicador de Interesse"
   ]
  },
  {
   "cell_type": "markdown",
   "id": "95fe2bcd",
   "metadata": {},
   "source": [
    "1. [proporção de gestantes com pelo menos 6 (seis) consultas pré-natal realizadas, sendo a 1ª até a 20ª semana de gestação (GEPRE);](https://drive.google.com/file/d/1EUnzI4QD7RGkCNCFN0vHayjM5GzvINrw/view?usp=sharing)\n",
    "2. [proporção de gestantes com realização de exames para sífilis e HIV (GEDST );](https://drive.google.com/file/d/1YCz5n7Ru0Y6Tf-MwN4cRik4za2xX9U6g/view?usp=sharing)\n",
    "3. [proporção de gestantes que passaram por atendimento odontológico (GEODO);](https://drive.google.com/file/d/1gABZ34w2oA57lJ4AB7dNW1ou_Bz5VEIZ/view?usp=sharing)\n",
    "4. [cobertura de exame citopatológico (CITO);](https://drive.google.com/file/d/1IGGXKfkJEFjR30440NU2ArcN4zHcd2ep/view?usp=sharing)\n",
    "5. [cobertura vacinal de poliomielite inativada e de pentavalente (POLI);](https://drive.google.com/file/d/1RukreNZvzZeN0OzuK2gzhDprgIPmjjZB/view?usp=sharing)\n",
    "6. [percentual de pessoas hipertensas com pressão arterial aferida em cada semestre (HIPER);](https://drive.google.com/file/d/1NQDNzFAp8iMzgpEHZc9oZq6dFNru1gha/view?usp=sharing) \n",
    "7. [percentual de diabéticos com solicitação de hemoglobina glicada (DIA).](https://drive.google.com/file/d/1xe5LRXgYRsBuhfWbYbzZoYy0BJGtM4kK/view?usp=sharing)"
   ]
  },
  {
   "cell_type": "code",
   "execution_count": null,
   "id": "d16aff34",
   "metadata": {},
   "outputs": [],
   "source": [
    "indicadores <- pedir_indicadores()"
   ]
  },
  {
   "cell_type": "markdown",
   "id": "d335198e",
   "metadata": {},
   "source": [
    "### Selecionar Indicador de Interesse"
   ]
  },
  {
   "cell_type": "markdown",
   "id": "e759f33e",
   "metadata": {},
   "source": [
    "1. [proporção de gestantes com pelo menos 6 (seis) consultas pré-natal realizadas, sendo a 1ª até a 20ª semana de gestação (GEPRE);](https://drive.google.com/file/d/1EUnzI4QD7RGkCNCFN0vHayjM5GzvINrw/view?usp=sharing)\n",
    "2. [proporção de gestantes com realização de exames para sífilis e HIV (GEDST );](https://drive.google.com/file/d/1YCz5n7Ru0Y6Tf-MwN4cRik4za2xX9U6g/view?usp=sharing)\n",
    "3. [proporção de gestantes que passaram por atendimento odontológico (GEODO);](https://drive.google.com/file/d/1gABZ34w2oA57lJ4AB7dNW1ou_Bz5VEIZ/view?usp=sharing)\n",
    "4. [cobertura de exame citopatológico (CITO);](https://drive.google.com/file/d/1IGGXKfkJEFjR30440NU2ArcN4zHcd2ep/view?usp=sharing)\n",
    "5. [cobertura vacinal de poliomielite inativada e de pentavalente (POLI);](https://drive.google.com/file/d/1RukreNZvzZeN0OzuK2gzhDprgIPmjjZB/view?usp=sharing)\n",
    "6. [percentual de pessoas hipertensas com pressão arterial aferida em cada semestre (HIPER);](https://drive.google.com/file/d/1NQDNzFAp8iMzgpEHZc9oZq6dFNru1gha/view?usp=sharing) \n",
    "7. [percentual de diabéticos com solicitação de hemoglobina glicada (DIA).](https://drive.google.com/file/d/1xe5LRXgYRsBuhfWbYbzZoYy0BJGtM4kK/view?usp=sharing)"
   ]
  },
  {
   "cell_type": "code",
   "execution_count": null,
   "id": "38f08a17",
   "metadata": {},
   "outputs": [],
   "source": [
    "INDICADOR <-  pedir_unico_indicador()"
   ]
  },
  {
   "cell_type": "markdown",
   "id": "59f0cc0c",
   "metadata": {},
   "source": [
    "### Digite o Ano Inicial e um Ano Final no formato yyyy"
   ]
  },
  {
   "cell_type": "markdown",
   "id": "a773019e",
   "metadata": {},
   "source": [
    "- 2018\n",
    "- 2019\n",
    "- 2020"
   ]
  },
  {
   "cell_type": "code",
   "execution_count": null,
   "id": "aa6cefc6",
   "metadata": {},
   "outputs": [],
   "source": [
    "ANOS <- pedir_ano()\n",
    "ANO_INICIAL <- ANOS[[1]]\n",
    "ANO_FINAL <- ANOS[[2]]"
   ]
  },
  {
   "cell_type": "markdown",
   "id": "b1526fca",
   "metadata": {},
   "source": [
    "### Digite o número relacionado ao Quadrimeste Inicial e um Quadrimestre Final"
   ]
  },
  {
   "cell_type": "markdown",
   "id": "828dd8f1",
   "metadata": {},
   "source": [
    "1. Primeiro Quadrimestre\n",
    "2. Segundo Quadrimestre\n",
    "3. Terceiro Quadrimestre"
   ]
  },
  {
   "cell_type": "code",
   "execution_count": null,
   "id": "07ce0428",
   "metadata": {},
   "outputs": [],
   "source": [
    "QUADRIMESTRES <- pedir_quadrimestre()\n",
    "Quadrimestre_Inicial <- QUADRIMESTRES[[1]]\n",
    "Quadrimestre_Final <- QUADRIMESTRES[[2]]"
   ]
  },
  {
   "cell_type": "markdown",
   "id": "20b9c96c",
   "metadata": {},
   "source": [
    "# ANÁLISES UTILIZANDO AS INFORMAÇÕES SELECIONADAS"
   ]
  },
  {
   "cell_type": "markdown",
   "id": "b09b8a26",
   "metadata": {},
   "source": [
    "## Série Temporal do Município para Indicadores Selecionados"
   ]
  },
  {
   "cell_type": "code",
   "execution_count": null,
   "id": "adc81f55",
   "metadata": {},
   "outputs": [],
   "source": [
    "Teste <- Dados_Mun %>% filter(indicador%in%c(INDICADORES[indicadores]), ibge ==municipio_selecionado)\n",
    "nome_mun_selecionado <- unique(Teste$nome_mun)\n",
    "\n",
    "fig(12,5)\n",
    "G1 <- Teste %>% \n",
    "  ggplot(aes(x=tempo, y=indicador_calculado, group=indicador)) +\n",
    "  geom_line(aes(linetype=indicador, color=indicador, size=indicador))+\n",
    "  geom_point(size=1)+\n",
    "  scale_linetype_manual(values=c(\"solid\", \"dotted\",'dashed'))+\n",
    "  scale_color_manual(values=c('black','#E69F00','darkred'))+\n",
    "  scale_size_manual(values=c(0.9, 0.8,0.6))+\n",
    "  coord_cartesian(ylim = c(0, 1), expand = FALSE, clip = \"off\",xlim=c(0.9,9.1)) +\n",
    "  scale_y_continuous(breaks = seq(0,1.0,.20))+\n",
    "  ggtitle(paste0(\"Série temporal do indicador utilizado para municipio \",nome_mun_selecionado))+\n",
    "  theme_bw() +\n",
    "  labs(y=\"Valor do Indicador\", x='Ano e Quadrimestre')+\n",
    "  theme(plot.margin = unit(c(1, 1, 4, 1), \"lines\"),\n",
    "        axis.title.y = element_text(size=12),\n",
    "        axis.title.x = element_blank(),\n",
    "        axis.text.x = element_text(angle=0, size=10),\n",
    "        panel.grid.major.x = element_blank(),\n",
    "        panel.grid.minor.x = element_blank(),\n",
    "        legend.title = element_text(size=12),\n",
    "        legend.text = element_text(size=12),\n",
    "        plot.title = element_text(hjust = 0.5, size=15))\n",
    "\n",
    "\n",
    "G2 <- Teste %>% \n",
    "  ggplot(aes(x=tempo, y=numerador, group=indicador)) +\n",
    "  geom_line(aes(linetype=indicador, color=indicador, size=indicador))+\n",
    "  geom_point(size=1)+\n",
    "  scale_linetype_manual(values=c(\"solid\", \"dotted\",'dashed'))+\n",
    "  scale_color_manual(values=c('black','#E69F00','darkred'))+\n",
    "  scale_size_manual(values=c(0.9, 0.8,0.6))+\n",
    "  \n",
    "  #coord_cartesian(ylim = c(0, max(Teste$Numerador)+5), expand = FALSE, clip = \"off\") +\n",
    "  ggtitle(paste0(\"Série temporal do numerador utilizado municipio \",nome_mun_selecionado))+\n",
    "  theme_bw() +\n",
    "  labs(y=\"Valor do Numerador\", x='Ano e Quadrimestre')+\n",
    "  theme(plot.margin = unit(c(1, 1, 4, 1), \"lines\"),\n",
    "        axis.title.y = element_text(size=12),\n",
    "        axis.title.x = element_blank(),\n",
    "        axis.text.x = element_text(angle=0, size=10),\n",
    "        panel.grid.major.x = element_blank(),\n",
    "        panel.grid.minor.x = element_blank(),\n",
    "        legend.title = element_text(size=12),\n",
    "        legend.text = element_text(size=12),\n",
    "        plot.title = element_text(hjust = 0.5, size=15))\n",
    "\n",
    "\n",
    "G3 <- Teste %>% \n",
    "  ggplot(aes(x=tempo, y=denominador_utilizado, group=indicador)) +\n",
    "  geom_line(aes(linetype=indicador, color=indicador, size=indicador))+\n",
    "  geom_point(size=1)+\n",
    "  scale_linetype_manual(values=c(\"solid\", \"dotted\",'dashed'))+\n",
    "  scale_color_manual(values=c('black','#E69F00','darkred'))+\n",
    "  scale_size_manual(values=c(0.9, 0.8,0.6))+\n",
    "\n",
    "  #coord_cartesian(ylim = c( 0, max(Teste$Denominador_Utilizado)+10), expand = FALSE, clip = \"off\") +\n",
    "  ggtitle(paste0(\"Série temporal do denominador utilizado para municipio \",nome_mun_selecionado))+\n",
    "  theme_bw() +\n",
    "  labs(y=\"Valor do Denominador\", x='Ano e Quadrimestre')+\n",
    "  theme(plot.margin = unit(c(1, 1, 4, 1), \"lines\"),\n",
    "        axis.title.y = element_text(size=12),\n",
    "        axis.title.x = element_blank(),\n",
    "        axis.text.x = element_text(angle=0,size=10),\n",
    "        panel.grid.major.x = element_blank(),\n",
    "        panel.grid.minor.x = element_blank(),\n",
    "        legend.title = element_text(size=12),\n",
    "        legend.text = element_text(size=12),\n",
    "        plot.title = element_text(hjust = 0.5,size=15))\n",
    "\n",
    "G2;G3;G1\n"
   ]
  },
  {
   "cell_type": "markdown",
   "id": "5df3286b",
   "metadata": {},
   "source": [
    "# Gráfico de Barra Nível Municipal para munícipio selecionado"
   ]
  },
  {
   "cell_type": "code",
   "execution_count": null,
   "id": "51abf6b4",
   "metadata": {},
   "outputs": [],
   "source": [
    "Dados_plot_mun  <-  Dados_Mun %>% filter(indicador==INDICADORES[INDICADOR], ibge==municipio_selecionado)\n",
    "\n",
    "n_estados = length(unique(Dados_plot_mun$uf))\n",
    "\n",
    "sequencia <- rep(c(0.6,0.68,0.79,0.89,0.99,1.1,1.21,1.30,1.39),n_estados)+\n",
    "  rep(c(0:(n_estados-1)),each=9)\n",
    "sequencia2 <- rep(seq(0.66,1.4,0.3),n_estados)+\n",
    "  rep(c(0:(n_estados-1)),each=3)\n",
    "\n",
    "\n",
    "fig(10,8)\n",
    "Dados_plot_mun <- Dados_plot_mun %>% arrange(uf,desc(tempo))\n",
    "\n",
    "Dados_plot_mun  %>% ggplot(aes(x=nome_mun,y=indicador_calculado,fill=tempo))+\n",
    "  geom_col(position=position_dodge(width=0.9),width=0.8)+\n",
    "  \n",
    "  geom_text(label=Dados_plot_mun$indicador_calculado,\n",
    "            position = position_dodge(width=0.9),\n",
    "            size=4, hjust = +0.45, vjust=-.35)+\n",
    "  labs(y= paste0(\"Indicador \", INDICADORES[INDICADOR]), x='Município')+\n",
    "  \n",
    "  scale_fill_manual(values=rep(c('#20c00c','#0e8b16','#095d0e'),each=3))+\n",
    "  \n",
    "  annotate(geom = \"text\", x =sequencia , y = -0.25*min(Dados_plot_mun$indicador_calculado), label = rep(Quadrimestres,\n",
    "                                                               3*n_estados), size = 4) +\n",
    "  \n",
    "  annotate(geom = \"text\", x = sequencia2 , y = -0.75*min(Dados_plot_mun$indicador_calculado) , label = rep(Anos,\n",
    "                                                                 n_estados), size = 5) +\n",
    "  \n",
    "  coord_cartesian(ylim = c(-min(Dados_plot_mun$indicador_calculado), max(Dados_plot_mun$indicador_calculado)+ .05), expand = FALSE, clip = \"off\",\n",
    "                  xlim=c(0.5,max(sequencia)+0.05))+\n",
    "  scale_y_continuous(breaks = seq(0,max(Dados_plot_mun$indicador_calculado),0.1))+\n",
    "  theme_bw()+\n",
    "  theme(plot.margin = unit(c(1, 1, 4, 1), \"lines\"),\n",
    "        panel.border = element_blank(),\n",
    "        axis.line.x = element_line(colour='black'),\n",
    "        axis.line.y = element_line(colour='black'),\n",
    "        axis.text.x = element_text(size=15),\n",
    "        axis.title = element_text(size=15),\n",
    "        legend.text = element_text(size=6),\n",
    "        legend.key.size = unit(0.5, 'cm'),\n",
    "        legend.title = element_text(size=7),\n",
    "        legend.position = \"none\")\n"
   ]
  },
  {
   "cell_type": "markdown",
   "id": "6d22eae6",
   "metadata": {},
   "source": [
    "# Mapa do indicador selecionado para os municípios pertencentes a região de saúde."
   ]
  },
  {
   "cell_type": "code",
   "execution_count": null,
   "id": "5c92c723",
   "metadata": {},
   "outputs": [],
   "source": [
    "states <- states_completo\n",
    "states$ibge <- as.numeric(str_sub(states$code_mn,1,6))\n",
    "\n",
    "nome_mun_selecionado <- Dados_Mun$nome_mun[Dados_Mun$ibge==municipio_selecionado] %>% unique()\n",
    "uf_selecionada <- Dados_Mun$uf[Dados_Mun$ibge==municipio_selecionado] %>% unique()\n",
    "reg_saude_sel <- Dados_Mun$cod_reg_saude[Dados_Mun$ibge==municipio_selecionado] %>% unique()\n",
    "\n",
    "tempo_inicial <- str_c(as.character(ANO_INICIAL),Quadrimestres[Quadrimestre_Inicial])\n",
    "\n",
    "tempo_final <- str_c(as.character(ANO_FINAL),Quadrimestres[Quadrimestre_Final])\n",
    "\n",
    "Dados_mapa <- Dados_Mun %>% filter(tempo%in%c(tempo_inicial,tempo_final), indicador==INDICADORES[INDICADOR], uf==uf_selecionada) %>% \n",
    "  select(reg_saude, cod_reg_saude,indicador_calculado, ibge, uf, nome_mun,tempo, indicador)\n",
    "\n",
    "states <- states %>% filter(abbrv_s==uf_selecionada)\n",
    "\n",
    "states <- left_join(states, Dados_mapa)"
   ]
  },
  {
   "cell_type": "code",
   "execution_count": null,
   "id": "8948e0d6",
   "metadata": {},
   "outputs": [],
   "source": [
    "no_axis <- theme(axis.title=element_blank(),\n",
    "axis.text=element_blank(),\n",
    "axis.ticks=element_blank())\n",
    "nc3_points <- st_point_on_surface(states)\n",
    "nc3_points <- nc3_points %>% filter(cod_reg_saude == reg_saude_sel)\n",
    "nc3_coords <- as.data.frame(st_coordinates(nc3_points))\n",
    "nomes_municipios <- states$name_mn[states$cod_reg_saude==reg_saude_sel]\n",
    "nc3_coords$NAME <- nomes_municipios[is.na(nomes_municipios)==F]\n",
    "states <- states %>% filter(cod_reg_saude == reg_saude_sel)\n"
   ]
  },
  {
   "cell_type": "code",
   "execution_count": null,
   "id": "9136afe9",
   "metadata": {},
   "outputs": [],
   "source": [
    "fig(14,10)\n",
    "ggplot() +\n",
    "geom_sf(data=states, aes(fill =indicador_calculado), size = 0.7, show.legend = TRUE) +\n",
    "theme_minimal()+\n",
    "ggtitle(paste0(\" Região de Saúde: \",states$reg_saude[states$cod_reg_saude==reg_saude_sel][1],\n",
    "              '\\n Muncípio: ',nome_mun_selecionado ,' \\n UF: ',uf_selecionada))+\n",
    "\n",
    "scale_fill_gradient(high = \"blue\", low= \"gray\", na.value = \"black\",\n",
    "                     name=paste(\"Indicador\",INDICADORES[INDICADOR] ))+\n",
    "theme(legend.position=\"top\")+\n",
    "geom_text(data = nc3_coords, aes(X, Y, label = NAME), colour = \"black\",fontface = \"bold\", size=3.5)+\n",
    "facet_grid(cols=vars(tempo))+\n",
    "theme(axis.title.y=element_text(colour=\"black\",size=12),\n",
    "                  axis.title.x=element_text(colour=\"black\",size=12),\n",
    "                  axis.text=element_text(colour=\"black\",size=12),\n",
    "                  panel.border=element_blank(),\n",
    "                  axis.line=element_line(colour=\"black\"),\n",
    "                  legend.title = element_text(size=15),\n",
    "                  legend.text = element_text(size=10),\n",
    "                  plot.title = element_text(hjust = 0.5,size=20))+\n",
    "theme(strip.text = element_text(face=\"bold\", size=12,lineheight=5.0),\n",
    "strip.background = element_rect(fill=\"white\", colour=\"black\",\n",
    "size=1))+\n",
    "no_axis"
   ]
  },
  {
   "cell_type": "markdown",
   "id": "46a32612",
   "metadata": {},
   "source": [
    "## Tabela do indicador selecionado para os municípios pertencentes a região de saúde."
   ]
  },
  {
   "cell_type": "code",
   "execution_count": null,
   "id": "b9af9f97",
   "metadata": {},
   "outputs": [],
   "source": [
    "datatable(unique(Dados_mapa[,c('ibge','uf','nome_mun','tempo','indicador_calculado')]),colnames=c('Código IBGE','UF','Município','Ano/Quadrimestre','Indicador'), options = list(lengthMenu = c(5, 10,15), pageLength = 5, names))"
   ]
  },
  {
   "cell_type": "markdown",
   "id": "7e2cc12f",
   "metadata": {},
   "source": [
    "# Boxplot por Região de Saúde"
   ]
  },
  {
   "cell_type": "code",
   "execution_count": null,
   "id": "427cce02",
   "metadata": {},
   "outputs": [],
   "source": [
    "reg_saude_sel <- Dados_Mun$cod_reg_saude[Dados_Mun$ibge==municipio_selecionado] %>% unique()\n",
    "name_reg_saude_sel <- Dados_Mun$reg_saude[Dados_Mun$ibge==municipio_selecionado] %>% unique()\n",
    "uf_selecionada <- Dados_Mun$uf[Dados_Mun$ibge==municipio_selecionado] %>% unique()\n",
    "reg_saude_sel <- Dados_Mun$cod_reg_saude[Dados_Mun$ibge==municipio_selecionado] %>% unique()\n",
    "nome_reg_saude <- Dados_Mun$reg_saude[Dados_Mun$ibge==municipio_selecionado] %>% unique()\n",
    "Dados_boxplot <- Dados_Mun %>% filter(cod_reg_saude==reg_saude_sel, indicador==INDICADORES[INDICADOR])\n",
    "\n",
    "ggplot(Dados_boxplot, aes(x=tempo, y=indicador_calculado)) + \n",
    "geom_boxplot(fill=c('#095d0e'),width=0.5)+\n",
    "  geom_jitter(data=Dados_boxplot %>% filter(ibge==municipio_selecionado),\n",
    "              shape=17,size=3,\n",
    "              aes(x=tempo, y=indicador_calculado, colour=nome_mun),\n",
    "              position=position_jitter(0),\n",
    "              show.legend = TRUE)+\n",
    "scale_color_manual(values = \"red\")+\n",
    "ggtitle(paste0(\" Região de Saúde: \",name_reg_saude_sel ,\n",
    "              '\\n Muncípio: ',nome_mun_selecionado ,' \\n UF: ',uf_selecionada))+\n",
    "  labs(x=\"Ano e Quadrimestre\",y= paste0('Indicador ', INDICADORES[INDICADOR]))+\n",
    "\n",
    "  theme_bw()+\n",
    "theme(axis.title.y=element_text(colour='black',size=15),\n",
    "        axis.title.x=element_text(colour='black',size=17),\n",
    "        axis.text=element_text(colour='black',size=15),\n",
    "        panel.border=element_blank(),\n",
    "        axis.line.y=element_line(colour='black'),\n",
    "        axis.text.x=element_text(size=15),\n",
    "        legend.title=element_blank(),\n",
    "        legend.text = element_text(size=15),\n",
    "        plot.title = element_text(hjust = 0,size=20),\n",
    "       legend.position='top')\n"
   ]
  },
  {
   "cell_type": "markdown",
   "id": "78b9be82",
   "metadata": {},
   "source": [
    "# Boxplot por Estado"
   ]
  },
  {
   "cell_type": "code",
   "execution_count": null,
   "id": "d97c273f",
   "metadata": {},
   "outputs": [],
   "source": [
    "UF_selecionada <- Dados_Mun$uf[Dados_Mun$ibge==municipio_selecionado] %>% unique()\n",
    "Dados_boxplot <- Dados_Mun %>% filter(uf==UF_selecionada,indicador==INDICADORES[INDICADOR])\n",
    "ggplot(Dados_boxplot, aes(x=tempo, y=indicador_calculado)) + \n",
    "geom_boxplot(fill=c('#095d0e'),width=0.5)+\n",
    "  geom_jitter(data=Dados_boxplot %>% filter(ibge==municipio_selecionado),\n",
    "              shape=17,size=3,\n",
    "              aes(x=tempo, y=indicador_calculado, colour=nome_mun),\n",
    "              position=position_jitter(0),\n",
    "              show.legend = TRUE)+\n",
    "scale_color_manual(values = \"red\")+\n",
    "ggtitle(paste0('UF: ',uf_selecionada, '\\nMuncípio: ',nome_mun_selecionado ))+\n",
    "  labs(x=\"Ano e Quadrimestre\",y= paste0('Indicador ', INDICADORES[INDICADOR]))+\n",
    "\n",
    "  theme_bw()+\n",
    "  \n",
    "  theme(axis.title.y=element_text(colour='black',size=17),\n",
    "        axis.title.x=element_text(colour='black',size=15),\n",
    "        axis.text=element_text(colour='black',size=15),\n",
    "        panel.border=element_blank(),\n",
    "        axis.line.y=element_line(colour='black'),\n",
    "        axis.text.x=element_text(size=15),\n",
    "        legend.title=element_blank(),\n",
    "        legend.text = element_text(size=15),\n",
    "        plot.title = element_text(hjust = 0,size=20),\n",
    "       legend.position='top')\n"
   ]
  }
 ],
 "metadata": {
  "kernelspec": {
   "display_name": "R",
   "language": "R",
   "name": "ir"
  }
 },
 "nbformat": 4,
 "nbformat_minor": 5
}
